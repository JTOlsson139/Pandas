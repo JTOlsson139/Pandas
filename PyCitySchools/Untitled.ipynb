{
 "cells": [
  {
   "cell_type": "code",
   "execution_count": null,
   "id": "b7239854",
   "metadata": {},
   "outputs": [],
   "source": [
    "# PyCitySchools\n",
    "# The following instructions come from:\n",
    "# Wonderful Data LINK: https://wonderful-data-c75b08.netlify.app/04-pandas/challenges/challenge/\n",
    "# GitLab LINK: https://ucdavis.bootcampcontent.com/ucdavis-boot-camp/ucd-sac-data-pt-06-2021-u-c/-/tree/master/04-Pandas/Homework/Instructions\n"
   ]
  }
 ],
 "metadata": {
  "kernelspec": {
   "display_name": "Python 3",
   "language": "python",
   "name": "python3"
  },
  "language_info": {
   "codemirror_mode": {
    "name": "ipython",
    "version": 3
   },
   "file_extension": ".py",
   "mimetype": "text/x-python",
   "name": "python",
   "nbconvert_exporter": "python",
   "pygments_lexer": "ipython3",
   "version": "3.8.8"
  }
 },
 "nbformat": 4,
 "nbformat_minor": 5
}
